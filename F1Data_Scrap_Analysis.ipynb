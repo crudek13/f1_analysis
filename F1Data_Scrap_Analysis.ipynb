{
 "cells": [
  {
   "attachments": {},
   "cell_type": "markdown",
   "metadata": {},
   "source": [
    "### F1 Data Analysis\n",
    "\n",
    "This is an exploratory project, scraping F1 data and analyzing."
   ]
  },
  {
   "cell_type": "code",
   "execution_count": 10,
   "metadata": {},
   "outputs": [],
   "source": [
    "# Packages reminder\n",
    "    #'pip list' in terminal below to check packages installed\n",
    "    #'pip install [package_name]' to to install if not\n",
    "\n",
    "import pandas as pd\n",
    "import requests\n",
    "from bs4 import BeautifulSoup\n",
    "\n",
    "#for hopefully, eventually writing to postgresql database\n",
    "#some test chunks of code are still in online jupyter notebook\n",
    "from sqlalchemy import create_engine\n",
    "from sqlalchemy.engine import URL"
   ]
  },
  {
   "cell_type": "code",
   "execution_count": 12,
   "metadata": {},
   "outputs": [],
   "source": [
    "# Components of url that change for each race\n",
    "number = '1143'\n",
    "#race 1 ='1141'\n",
    "place = 'australia'\n",
    "# race 1 = 'bahrain'\n",
    "race = 'practice-2'\n",
    "\n",
    "base_url = 'https://www.formula1.com/en/results.html/2023/races/'\n",
    "\n",
    "url = base_url + number + '/' + place + '/' + race + '.html'"
   ]
  },
  {
   "cell_type": "code",
   "execution_count": 13,
   "metadata": {},
   "outputs": [],
   "source": [
    "# Beautiful soup preparation\n",
    "page = requests.get(url)\n",
    "soup = BeautifulSoup(page.content, \"html.parser\")"
   ]
  },
  {
   "cell_type": "code",
   "execution_count": 14,
   "metadata": {},
   "outputs": [],
   "source": [
    "# Get HTML table\n",
    "tables = pd.read_html(url)\n",
    "table1 = tables[0]\n",
    "\n",
    "# Select columns wanted\n",
    "table2 = table1.iloc[:,1:8]\n",
    "\n",
    "# Create new field for driver abbrevation\n",
    "table2['Abbrev'] = table2['Driver'].str[-3:]\n",
    "\n",
    "# Remove driver abbreviation from Driver name\n",
    "table2['Driver'] = table2['Driver'].str[:-3]"
   ]
  },
  {
   "cell_type": "code",
   "execution_count": 15,
   "metadata": {},
   "outputs": [],
   "source": [
    "# Extract Title\n",
    "title = str(soup.title.text)\n",
    "\n",
    "# Create list split by -. Put in to dataframe with 2 rows\n",
    "li = list(title.split(\"-\"))\n",
    "df = pd.DataFrame(li, columns = ['Names'])\n",
    "df['Names'] = df['Names'].str.strip()\n",
    "\n",
    "# Create fields to append to base table\n",
    "Race = df.iloc[0]['Names']\n",
    "Round = df.iloc[1]['Names']\n",
    "\n",
    "# Extract date and save as variable to append to base table\n",
    "date = soup.find(\"span\", {\"class\": \"full-date\"})\n",
    "date = str(date.text)\n",
    "\n",
    "# Extract track and save as variable to append to base table\n",
    "track = soup.find(\"span\", {\"class\": \"circuit-info\"})\n",
    "track = str(track.text)"
   ]
  },
  {
   "cell_type": "code",
   "execution_count": 16,
   "metadata": {},
   "outputs": [],
   "source": [
    "# Append fields not part of base table and create final data frame\n",
    "F1_Statisitcs = table2.assign(Race=Race, Round=Round, Date = date, Track = track)"
   ]
  },
  {
   "cell_type": "code",
   "execution_count": 17,
   "metadata": {},
   "outputs": [],
   "source": [
    "# Split Time column in to minutes and hours\n",
    "F1_Statisitcs[\"Ind_Hours\"] = F1_Statisitcs['Time'].str.split(\":\").str[0]\n",
    "F1_Statisitcs[\"Ind_Minutes\"] = F1_Statisitcs['Time'].str.split(\":\").str[1]\n",
    "F1_Statisitcs[\"Ind_Hours\"] = pd.to_numeric(F1_Statisitcs[\"Ind_Hours\"])\n",
    "F1_Statisitcs[\"Ind_Minutes\"] = pd.to_numeric(F1_Statisitcs[\"Ind_Minutes\"])\n",
    "\n",
    "# Create Total Min column\n",
    "F1_Statisitcs[\"Total_Min\"] = (F1_Statisitcs[\"Ind_Hours\"]*60) + F1_Statisitcs[\"Ind_Minutes\"]\n",
    "F1_Statisitcs[\"Total_Min\"] = pd.to_numeric(F1_Statisitcs[\"Total_Min\"])\n",
    "\n",
    "# Create cleaned up Gap(seconds) column. Replace nulls with 0\n",
    "F1_Statisitcs['Gap_Seconds'] = F1_Statisitcs['Gap'].str.strip(\"+\")\n",
    "F1_Statisitcs['Gap_Seconds'] = F1_Statisitcs['Gap'].str.strip(\"s\")\n",
    "F1_Statisitcs['Gap_Seconds'] = F1_Statisitcs['Gap_Seconds'].fillna(0)\n",
    "F1_Statisitcs['Gap_Seconds'] = pd.to_numeric(F1_Statisitcs['Gap_Seconds'])"
   ]
  },
  {
   "cell_type": "code",
   "execution_count": 18,
   "metadata": {},
   "outputs": [],
   "source": [
    "# Reorder Columns\n",
    "cols = ['No','Driver','Abbrev','Car','Race','Date','Track','Round','Laps','Pos','Time','Total_Min','Gap','Gap_Seconds','Ind_Hours','Ind_Minutes']\n",
    "F1_Statisitcs = F1_Statisitcs[cols]\n",
    "\n",
    "# Remove last two columns\n",
    "F1_Statisitcs = F1_Statisitcs.iloc[:,:-2]"
   ]
  },
  {
   "cell_type": "code",
   "execution_count": 19,
   "metadata": {},
   "outputs": [],
   "source": [
    "# Write to excel\n",
    "F1_Statisitcs.to_excel('F13.xlsx', index=False)"
   ]
  }
 ],
 "metadata": {
  "kernelspec": {
   "display_name": "base",
   "language": "python",
   "name": "python3"
  },
  "language_info": {
   "codemirror_mode": {
    "name": "ipython",
    "version": 3
   },
   "file_extension": ".py",
   "mimetype": "text/x-python",
   "name": "python",
   "nbconvert_exporter": "python",
   "pygments_lexer": "ipython3",
   "version": "3.9.13"
  },
  "orig_nbformat": 4,
  "vscode": {
   "interpreter": {
    "hash": "5a16c1516217bb3efc288bf7d174a55ec158c4c4c86b91358695c99001ef36dd"
   }
  }
 },
 "nbformat": 4,
 "nbformat_minor": 2
}
